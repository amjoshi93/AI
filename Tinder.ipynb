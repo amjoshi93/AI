{
 "cells": [
  {
   "cell_type": "code",
   "execution_count": 1,
   "metadata": {},
   "outputs": [],
   "source": [
    "import numpy as np\n",
    "import pandas as pd\n",
    "import matplotlib.pyplot as plt\n",
    "import seaborn as sns\n",
    "from sklearn.metrics import classification_report"
   ]
  },
  {
   "cell_type": "code",
   "execution_count": 2,
   "metadata": {},
   "outputs": [],
   "source": [
    "data = pd.read_csv(\"G:\\\\Netzwerk assignments\\\\Tinder_Train.csv\")"
   ]
  },
  {
   "cell_type": "code",
   "execution_count": 3,
   "metadata": {},
   "outputs": [
    {
     "data": {
      "text/html": [
       "<div>\n",
       "<style scoped>\n",
       "    .dataframe tbody tr th:only-of-type {\n",
       "        vertical-align: middle;\n",
       "    }\n",
       "\n",
       "    .dataframe tbody tr th {\n",
       "        vertical-align: top;\n",
       "    }\n",
       "\n",
       "    .dataframe thead th {\n",
       "        text-align: right;\n",
       "    }\n",
       "</style>\n",
       "<table border=\"1\" class=\"dataframe\">\n",
       "  <thead>\n",
       "    <tr style=\"text-align: right;\">\n",
       "      <th></th>\n",
       "      <th>Unnamed: 0</th>\n",
       "      <th>ID</th>\n",
       "      <th>Segment type</th>\n",
       "      <th>Segment Description</th>\n",
       "      <th>Answer</th>\n",
       "      <th>Count</th>\n",
       "      <th>Percentage</th>\n",
       "      <th>It became a relationship</th>\n",
       "    </tr>\n",
       "  </thead>\n",
       "  <tbody>\n",
       "    <tr>\n",
       "      <th>0</th>\n",
       "      <td>0</td>\n",
       "      <td>292890.8970</td>\n",
       "      <td>web</td>\n",
       "      <td>Meridian, Idaho</td>\n",
       "      <td>No</td>\n",
       "      <td>0.000000</td>\n",
       "      <td>0.000000</td>\n",
       "      <td>0</td>\n",
       "    </tr>\n",
       "    <tr>\n",
       "      <th>1</th>\n",
       "      <td>1</td>\n",
       "      <td>292887.9870</td>\n",
       "      <td>web</td>\n",
       "      <td>Meridian, Idaho</td>\n",
       "      <td>No</td>\n",
       "      <td>0.000000</td>\n",
       "      <td>0.000000</td>\n",
       "      <td>0</td>\n",
       "    </tr>\n",
       "    <tr>\n",
       "      <th>2</th>\n",
       "      <td>2</td>\n",
       "      <td>292894.0656</td>\n",
       "      <td>gender</td>\n",
       "      <td>Meridian, Idaho</td>\n",
       "      <td>No</td>\n",
       "      <td>499.173606</td>\n",
       "      <td>0.225255</td>\n",
       "      <td>0</td>\n",
       "    </tr>\n",
       "    <tr>\n",
       "      <th>3</th>\n",
       "      <td>3</td>\n",
       "      <td>292887.1180</td>\n",
       "      <td>web</td>\n",
       "      <td>Meridian, Idaho</td>\n",
       "      <td>No</td>\n",
       "      <td>0.000000</td>\n",
       "      <td>0.000000</td>\n",
       "      <td>0</td>\n",
       "    </tr>\n",
       "    <tr>\n",
       "      <th>4</th>\n",
       "      <td>4</td>\n",
       "      <td>292893.6561</td>\n",
       "      <td>gender</td>\n",
       "      <td>Meridian, Idaho</td>\n",
       "      <td>No</td>\n",
       "      <td>455.925963</td>\n",
       "      <td>0.211360</td>\n",
       "      <td>0</td>\n",
       "    </tr>\n",
       "    <tr>\n",
       "      <th>5</th>\n",
       "      <td>5</td>\n",
       "      <td>292896.2932</td>\n",
       "      <td>gender</td>\n",
       "      <td>Meridian, Idaho</td>\n",
       "      <td>No</td>\n",
       "      <td>1091.176696</td>\n",
       "      <td>0.519163</td>\n",
       "      <td>0</td>\n",
       "    </tr>\n",
       "    <tr>\n",
       "      <th>6</th>\n",
       "      <td>6</td>\n",
       "      <td>292889.6679</td>\n",
       "      <td>web</td>\n",
       "      <td>Meridian, Idaho</td>\n",
       "      <td>No</td>\n",
       "      <td>0.000000</td>\n",
       "      <td>0.000000</td>\n",
       "      <td>0</td>\n",
       "    </tr>\n",
       "    <tr>\n",
       "      <th>7</th>\n",
       "      <td>7</td>\n",
       "      <td>293223.0000</td>\n",
       "      <td>university</td>\n",
       "      <td>University of Iowa</td>\n",
       "      <td>Yes</td>\n",
       "      <td>1.000000</td>\n",
       "      <td>0.333000</td>\n",
       "      <td>0</td>\n",
       "    </tr>\n",
       "    <tr>\n",
       "      <th>8</th>\n",
       "      <td>8</td>\n",
       "      <td>292881.1384</td>\n",
       "      <td>mobile</td>\n",
       "      <td>Meridian, Idaho</td>\n",
       "      <td>No</td>\n",
       "      <td>878.080463</td>\n",
       "      <td>0.228031</td>\n",
       "      <td>0</td>\n",
       "    </tr>\n",
       "    <tr>\n",
       "      <th>9</th>\n",
       "      <td>9</td>\n",
       "      <td>292889.6084</td>\n",
       "      <td>web</td>\n",
       "      <td>Meridian, Idaho</td>\n",
       "      <td>No</td>\n",
       "      <td>0.000000</td>\n",
       "      <td>0.000000</td>\n",
       "      <td>0</td>\n",
       "    </tr>\n",
       "    <tr>\n",
       "      <th>10</th>\n",
       "      <td>10</td>\n",
       "      <td>292890.3917</td>\n",
       "      <td>web</td>\n",
       "      <td>Meridian, Idaho</td>\n",
       "      <td>No</td>\n",
       "      <td>0.000000</td>\n",
       "      <td>0.000000</td>\n",
       "      <td>0</td>\n",
       "    </tr>\n",
       "    <tr>\n",
       "      <th>11</th>\n",
       "      <td>11</td>\n",
       "      <td>292901.5235</td>\n",
       "      <td>gender</td>\n",
       "      <td>Meridian, Idaho</td>\n",
       "      <td>No</td>\n",
       "      <td>445.496374</td>\n",
       "      <td>0.271812</td>\n",
       "      <td>0</td>\n",
       "    </tr>\n",
       "    <tr>\n",
       "      <th>12</th>\n",
       "      <td>12</td>\n",
       "      <td>292892.2684</td>\n",
       "      <td>gender</td>\n",
       "      <td>Meridian, Idaho</td>\n",
       "      <td>No</td>\n",
       "      <td>1118.156938</td>\n",
       "      <td>0.434512</td>\n",
       "      <td>0</td>\n",
       "    </tr>\n",
       "    <tr>\n",
       "      <th>13</th>\n",
       "      <td>13</td>\n",
       "      <td>292887.4288</td>\n",
       "      <td>web</td>\n",
       "      <td>Meridian, Idaho</td>\n",
       "      <td>No</td>\n",
       "      <td>0.000000</td>\n",
       "      <td>0.000000</td>\n",
       "      <td>0</td>\n",
       "    </tr>\n",
       "    <tr>\n",
       "      <th>14</th>\n",
       "      <td>14</td>\n",
       "      <td>292897.9815</td>\n",
       "      <td>gender</td>\n",
       "      <td>Meridian, Idaho</td>\n",
       "      <td>No</td>\n",
       "      <td>985.656969</td>\n",
       "      <td>0.507626</td>\n",
       "      <td>0</td>\n",
       "    </tr>\n",
       "    <tr>\n",
       "      <th>15</th>\n",
       "      <td>15</td>\n",
       "      <td>292884.2696</td>\n",
       "      <td>mobile</td>\n",
       "      <td>Meridian, Idaho</td>\n",
       "      <td>No</td>\n",
       "      <td>1411.022822</td>\n",
       "      <td>0.366269</td>\n",
       "      <td>0</td>\n",
       "    </tr>\n",
       "    <tr>\n",
       "      <th>16</th>\n",
       "      <td>16</td>\n",
       "      <td>292902.2716</td>\n",
       "      <td>gender</td>\n",
       "      <td>Meridian, Idaho</td>\n",
       "      <td>No</td>\n",
       "      <td>523.041178</td>\n",
       "      <td>0.308202</td>\n",
       "      <td>0</td>\n",
       "    </tr>\n",
       "    <tr>\n",
       "      <th>17</th>\n",
       "      <td>17</td>\n",
       "      <td>292889.3406</td>\n",
       "      <td>web</td>\n",
       "      <td>Meridian, Idaho</td>\n",
       "      <td>No</td>\n",
       "      <td>0.000000</td>\n",
       "      <td>0.000000</td>\n",
       "      <td>0</td>\n",
       "    </tr>\n",
       "    <tr>\n",
       "      <th>18</th>\n",
       "      <td>18</td>\n",
       "      <td>293009.0000</td>\n",
       "      <td>university</td>\n",
       "      <td>University of Wisconsin-Madison</td>\n",
       "      <td>No</td>\n",
       "      <td>71.000000</td>\n",
       "      <td>0.563000</td>\n",
       "      <td>0</td>\n",
       "    </tr>\n",
       "    <tr>\n",
       "      <th>19</th>\n",
       "      <td>19</td>\n",
       "      <td>292943.0117</td>\n",
       "      <td>university</td>\n",
       "      <td>University of California, Davis</td>\n",
       "      <td>Yes</td>\n",
       "      <td>8.497078</td>\n",
       "      <td>0.193545</td>\n",
       "      <td>1</td>\n",
       "    </tr>\n",
       "    <tr>\n",
       "      <th>20</th>\n",
       "      <td>20</td>\n",
       "      <td>292887.0160</td>\n",
       "      <td>web</td>\n",
       "      <td>Meridian, Idaho</td>\n",
       "      <td>No</td>\n",
       "      <td>0.000000</td>\n",
       "      <td>0.000000</td>\n",
       "      <td>0</td>\n",
       "    </tr>\n",
       "    <tr>\n",
       "      <th>21</th>\n",
       "      <td>21</td>\n",
       "      <td>293099.0000</td>\n",
       "      <td>university</td>\n",
       "      <td>University of California, San Diego</td>\n",
       "      <td>No</td>\n",
       "      <td>0.000000</td>\n",
       "      <td>0.000000</td>\n",
       "      <td>0</td>\n",
       "    </tr>\n",
       "    <tr>\n",
       "      <th>22</th>\n",
       "      <td>22</td>\n",
       "      <td>292882.5488</td>\n",
       "      <td>mobile</td>\n",
       "      <td>Meridian, Idaho</td>\n",
       "      <td>No</td>\n",
       "      <td>796.776155</td>\n",
       "      <td>0.228494</td>\n",
       "      <td>1</td>\n",
       "    </tr>\n",
       "    <tr>\n",
       "      <th>23</th>\n",
       "      <td>23</td>\n",
       "      <td>292883.4428</td>\n",
       "      <td>mobile</td>\n",
       "      <td>Meridian, Idaho</td>\n",
       "      <td>No</td>\n",
       "      <td>1774.392524</td>\n",
       "      <td>0.460522</td>\n",
       "      <td>0</td>\n",
       "    </tr>\n",
       "    <tr>\n",
       "      <th>24</th>\n",
       "      <td>24</td>\n",
       "      <td>292897.8191</td>\n",
       "      <td>gender</td>\n",
       "      <td>Meridian, Idaho</td>\n",
       "      <td>No</td>\n",
       "      <td>566.081621</td>\n",
       "      <td>0.266645</td>\n",
       "      <td>0</td>\n",
       "    </tr>\n",
       "  </tbody>\n",
       "</table>\n",
       "</div>"
      ],
      "text/plain": [
       "    Unnamed: 0           ID Segment type                  Segment Description  \\\n",
       "0            0  292890.8970          web                      Meridian, Idaho   \n",
       "1            1  292887.9870          web                      Meridian, Idaho   \n",
       "2            2  292894.0656       gender                      Meridian, Idaho   \n",
       "3            3  292887.1180          web                      Meridian, Idaho   \n",
       "4            4  292893.6561       gender                      Meridian, Idaho   \n",
       "5            5  292896.2932       gender                      Meridian, Idaho   \n",
       "6            6  292889.6679          web                      Meridian, Idaho   \n",
       "7            7  293223.0000   university                   University of Iowa   \n",
       "8            8  292881.1384       mobile                      Meridian, Idaho   \n",
       "9            9  292889.6084          web                      Meridian, Idaho   \n",
       "10          10  292890.3917          web                      Meridian, Idaho   \n",
       "11          11  292901.5235       gender                      Meridian, Idaho   \n",
       "12          12  292892.2684       gender                      Meridian, Idaho   \n",
       "13          13  292887.4288          web                      Meridian, Idaho   \n",
       "14          14  292897.9815       gender                      Meridian, Idaho   \n",
       "15          15  292884.2696       mobile                      Meridian, Idaho   \n",
       "16          16  292902.2716       gender                      Meridian, Idaho   \n",
       "17          17  292889.3406          web                      Meridian, Idaho   \n",
       "18          18  293009.0000   university      University of Wisconsin-Madison   \n",
       "19          19  292943.0117   university      University of California, Davis   \n",
       "20          20  292887.0160          web                      Meridian, Idaho   \n",
       "21          21  293099.0000   university  University of California, San Diego   \n",
       "22          22  292882.5488       mobile                      Meridian, Idaho   \n",
       "23          23  292883.4428       mobile                      Meridian, Idaho   \n",
       "24          24  292897.8191       gender                      Meridian, Idaho   \n",
       "\n",
       "   Answer        Count  Percentage  It became a relationship  \n",
       "0      No     0.000000    0.000000                         0  \n",
       "1      No     0.000000    0.000000                         0  \n",
       "2      No   499.173606    0.225255                         0  \n",
       "3      No     0.000000    0.000000                         0  \n",
       "4      No   455.925963    0.211360                         0  \n",
       "5      No  1091.176696    0.519163                         0  \n",
       "6      No     0.000000    0.000000                         0  \n",
       "7     Yes     1.000000    0.333000                         0  \n",
       "8      No   878.080463    0.228031                         0  \n",
       "9      No     0.000000    0.000000                         0  \n",
       "10     No     0.000000    0.000000                         0  \n",
       "11     No   445.496374    0.271812                         0  \n",
       "12     No  1118.156938    0.434512                         0  \n",
       "13     No     0.000000    0.000000                         0  \n",
       "14     No   985.656969    0.507626                         0  \n",
       "15     No  1411.022822    0.366269                         0  \n",
       "16     No   523.041178    0.308202                         0  \n",
       "17     No     0.000000    0.000000                         0  \n",
       "18     No    71.000000    0.563000                         0  \n",
       "19    Yes     8.497078    0.193545                         1  \n",
       "20     No     0.000000    0.000000                         0  \n",
       "21     No     0.000000    0.000000                         0  \n",
       "22     No   796.776155    0.228494                         1  \n",
       "23     No  1774.392524    0.460522                         0  \n",
       "24     No   566.081621    0.266645                         0  "
      ]
     },
     "execution_count": 3,
     "metadata": {},
     "output_type": "execute_result"
    }
   ],
   "source": [
    "data.head(25)"
   ]
  },
  {
   "cell_type": "code",
   "execution_count": 4,
   "metadata": {},
   "outputs": [
    {
     "data": {
      "text/plain": [
       "(1896, 8)"
      ]
     },
     "execution_count": 4,
     "metadata": {},
     "output_type": "execute_result"
    }
   ],
   "source": [
    "data.shape"
   ]
  },
  {
   "cell_type": "code",
   "execution_count": 5,
   "metadata": {},
   "outputs": [
    {
     "name": "stdout",
     "output_type": "stream",
     "text": [
      "<class 'pandas.core.frame.DataFrame'>\n",
      "RangeIndex: 1896 entries, 0 to 1895\n",
      "Data columns (total 8 columns):\n",
      " #   Column                    Non-Null Count  Dtype  \n",
      "---  ------                    --------------  -----  \n",
      " 0   Unnamed: 0                1896 non-null   int64  \n",
      " 1   ID                        1896 non-null   float64\n",
      " 2   Segment type              1896 non-null   object \n",
      " 3   Segment Description       1896 non-null   object \n",
      " 4   Answer                    1896 non-null   object \n",
      " 5   Count                     1896 non-null   float64\n",
      " 6   Percentage                1896 non-null   float64\n",
      " 7   It became a relationship  1896 non-null   int64  \n",
      "dtypes: float64(3), int64(2), object(3)\n",
      "memory usage: 118.6+ KB\n"
     ]
    }
   ],
   "source": [
    "data.info()"
   ]
  },
  {
   "cell_type": "code",
   "execution_count": 6,
   "metadata": {
    "scrolled": true
   },
   "outputs": [
    {
     "data": {
      "text/html": [
       "<div>\n",
       "<style scoped>\n",
       "    .dataframe tbody tr th:only-of-type {\n",
       "        vertical-align: middle;\n",
       "    }\n",
       "\n",
       "    .dataframe tbody tr th {\n",
       "        vertical-align: top;\n",
       "    }\n",
       "\n",
       "    .dataframe thead th {\n",
       "        text-align: right;\n",
       "    }\n",
       "</style>\n",
       "<table border=\"1\" class=\"dataframe\">\n",
       "  <thead>\n",
       "    <tr style=\"text-align: right;\">\n",
       "      <th></th>\n",
       "      <th>Unnamed: 0</th>\n",
       "      <th>ID</th>\n",
       "      <th>Count</th>\n",
       "      <th>Percentage</th>\n",
       "      <th>It became a relationship</th>\n",
       "    </tr>\n",
       "  </thead>\n",
       "  <tbody>\n",
       "    <tr>\n",
       "      <th>count</th>\n",
       "      <td>1896.000000</td>\n",
       "      <td>1896.000000</td>\n",
       "      <td>1896.000000</td>\n",
       "      <td>1896.000000</td>\n",
       "      <td>1896.000000</td>\n",
       "    </tr>\n",
       "    <tr>\n",
       "      <th>mean</th>\n",
       "      <td>947.500000</td>\n",
       "      <td>292999.394750</td>\n",
       "      <td>446.881267</td>\n",
       "      <td>0.254098</td>\n",
       "      <td>0.350738</td>\n",
       "    </tr>\n",
       "    <tr>\n",
       "      <th>std</th>\n",
       "      <td>547.472374</td>\n",
       "      <td>227.809806</td>\n",
       "      <td>494.110578</td>\n",
       "      <td>0.220809</td>\n",
       "      <td>0.477327</td>\n",
       "    </tr>\n",
       "    <tr>\n",
       "      <th>min</th>\n",
       "      <td>0.000000</td>\n",
       "      <td>292881.000000</td>\n",
       "      <td>0.000000</td>\n",
       "      <td>0.000000</td>\n",
       "      <td>0.000000</td>\n",
       "    </tr>\n",
       "    <tr>\n",
       "      <th>25%</th>\n",
       "      <td>473.750000</td>\n",
       "      <td>292888.196925</td>\n",
       "      <td>0.000000</td>\n",
       "      <td>0.000000</td>\n",
       "      <td>0.000000</td>\n",
       "    </tr>\n",
       "    <tr>\n",
       "      <th>50%</th>\n",
       "      <td>947.500000</td>\n",
       "      <td>292893.904400</td>\n",
       "      <td>400.439633</td>\n",
       "      <td>0.257873</td>\n",
       "      <td>0.000000</td>\n",
       "    </tr>\n",
       "    <tr>\n",
       "      <th>75%</th>\n",
       "      <td>1421.250000</td>\n",
       "      <td>292902.568750</td>\n",
       "      <td>845.560798</td>\n",
       "      <td>0.396787</td>\n",
       "      <td>1.000000</td>\n",
       "    </tr>\n",
       "    <tr>\n",
       "      <th>max</th>\n",
       "      <td>1895.000000</td>\n",
       "      <td>293785.000000</td>\n",
       "      <td>1969.000000</td>\n",
       "      <td>1.000000</td>\n",
       "      <td>1.000000</td>\n",
       "    </tr>\n",
       "  </tbody>\n",
       "</table>\n",
       "</div>"
      ],
      "text/plain": [
       "        Unnamed: 0             ID        Count   Percentage  \\\n",
       "count  1896.000000    1896.000000  1896.000000  1896.000000   \n",
       "mean    947.500000  292999.394750   446.881267     0.254098   \n",
       "std     547.472374     227.809806   494.110578     0.220809   \n",
       "min       0.000000  292881.000000     0.000000     0.000000   \n",
       "25%     473.750000  292888.196925     0.000000     0.000000   \n",
       "50%     947.500000  292893.904400   400.439633     0.257873   \n",
       "75%    1421.250000  292902.568750   845.560798     0.396787   \n",
       "max    1895.000000  293785.000000  1969.000000     1.000000   \n",
       "\n",
       "       It became a relationship  \n",
       "count               1896.000000  \n",
       "mean                   0.350738  \n",
       "std                    0.477327  \n",
       "min                    0.000000  \n",
       "25%                    0.000000  \n",
       "50%                    0.000000  \n",
       "75%                    1.000000  \n",
       "max                    1.000000  "
      ]
     },
     "execution_count": 6,
     "metadata": {},
     "output_type": "execute_result"
    }
   ],
   "source": [
    "data.describe()"
   ]
  },
  {
   "cell_type": "code",
   "execution_count": 7,
   "metadata": {},
   "outputs": [
    {
     "data": {
      "text/plain": [
       "Unnamed: 0                  0\n",
       "ID                          0\n",
       "Segment type                0\n",
       "Segment Description         0\n",
       "Answer                      0\n",
       "Count                       0\n",
       "Percentage                  0\n",
       "It became a relationship    0\n",
       "dtype: int64"
      ]
     },
     "execution_count": 7,
     "metadata": {},
     "output_type": "execute_result"
    }
   ],
   "source": [
    "data.isnull().sum()"
   ]
  },
  {
   "cell_type": "markdown",
   "metadata": {},
   "source": [
    "## We have to encode the categorical data  "
   ]
  },
  {
   "cell_type": "code",
   "execution_count": 8,
   "metadata": {
    "scrolled": true
   },
   "outputs": [
    {
     "data": {
      "text/plain": [
       "array(['web', 'gender', 'university', 'mobile'], dtype=object)"
      ]
     },
     "execution_count": 8,
     "metadata": {},
     "output_type": "execute_result"
    }
   ],
   "source": [
    "data['Segment type'].unique()"
   ]
  },
  {
   "cell_type": "code",
   "execution_count": 9,
   "metadata": {},
   "outputs": [
    {
     "data": {
      "text/plain": [
       "gender        488\n",
       "mobile        483\n",
       "university    464\n",
       "web           461\n",
       "Name: Segment type, dtype: int64"
      ]
     },
     "execution_count": 9,
     "metadata": {},
     "output_type": "execute_result"
    }
   ],
   "source": [
    "data['Segment type'].value_counts()"
   ]
  },
  {
   "cell_type": "code",
   "execution_count": 10,
   "metadata": {
    "scrolled": false
   },
   "outputs": [
    {
     "data": {
      "text/plain": [
       "Meridian, Idaho                    1421\n",
       "Westport, CT                         14\n",
       "University of Pennsylvania           12\n",
       "University of Mississippi            10\n",
       "University of Washington             10\n",
       "                                   ... \n",
       "University of Alabama                 1\n",
       "Southern Methodist University         1\n",
       "Castleton State College               1\n",
       "Mississippi State University          1\n",
       "University of Wisconsin-Madison       1\n",
       "Name: Segment Description, Length: 148, dtype: int64"
      ]
     },
     "execution_count": 10,
     "metadata": {},
     "output_type": "execute_result"
    }
   ],
   "source": [
    "data['Segment Description'].value_counts()"
   ]
  },
  {
   "cell_type": "code",
   "execution_count": 11,
   "metadata": {},
   "outputs": [
    {
     "data": {
      "text/plain": [
       "148"
      ]
     },
     "execution_count": 11,
     "metadata": {},
     "output_type": "execute_result"
    }
   ],
   "source": [
    "len(data['Segment Description'].value_counts())"
   ]
  },
  {
   "cell_type": "code",
   "execution_count": 12,
   "metadata": {},
   "outputs": [
    {
     "data": {
      "text/plain": [
       "No                    1571\n",
       "Yes                    164\n",
       "I don't use Tinder     161\n",
       "Name: Answer, dtype: int64"
      ]
     },
     "execution_count": 12,
     "metadata": {},
     "output_type": "execute_result"
    }
   ],
   "source": [
    "data['Answer'].value_counts()"
   ]
  },
  {
   "cell_type": "code",
   "execution_count": 13,
   "metadata": {},
   "outputs": [
    {
     "data": {
      "text/plain": [
       "0    1231\n",
       "1     665\n",
       "Name: It became a relationship, dtype: int64"
      ]
     },
     "execution_count": 13,
     "metadata": {},
     "output_type": "execute_result"
    }
   ],
   "source": [
    "data['It became a relationship'].value_counts()"
   ]
  },
  {
   "cell_type": "markdown",
   "metadata": {},
   "source": [
    "How can 'It became a relationship' : 1 value_count higher than 'Answer' : Yes value_count?\n",
    "Are people dishonest in their answers?"
   ]
  },
  {
   "cell_type": "markdown",
   "metadata": {},
   "source": [
    "## Frequency/Count Encoding "
   ]
  },
  {
   "cell_type": "markdown",
   "metadata": {},
   "source": [
    "Frequency/Count Encoding : \n",
    "\n",
    "It is a way to utilize the frequency of the categories as labels. In the cases where the frequency is related somewhat with the target variable, it helps the model to understand and assign the weight in direct and inverse proportion, depending on the nature of the data"
   ]
  },
  {
   "cell_type": "code",
   "execution_count": 14,
   "metadata": {},
   "outputs": [
    {
     "data": {
      "text/plain": [
       "{'Meridian, Idaho': 1421,\n",
       " 'Westport, CT': 14,\n",
       " 'University of Pennsylvania': 12,\n",
       " 'University of Mississippi': 10,\n",
       " 'University of Washington': 10,\n",
       " 'University of Southern California': 9,\n",
       " 'Wesleyan University': 8,\n",
       " 'University of Tampa': 8,\n",
       " 'University of California, Santa Cruz': 8,\n",
       " 'Washington State University': 8,\n",
       " 'University of Wisconsin, Eau Claire': 8,\n",
       " 'University of California, Berkeley': 8,\n",
       " 'Union College': 7,\n",
       " 'Vanderbilt University': 7,\n",
       " 'Vassar College': 7,\n",
       " 'Williams College': 7,\n",
       " 'University of Oregon': 7,\n",
       " 'University of Buffalo': 7,\n",
       " 'University of Delaware': 6,\n",
       " 'Whatsgoodly University': 6,\n",
       " 'University of California, Davis': 6,\n",
       " 'University of Central Oklahoma': 5,\n",
       " 'University of Miami': 5,\n",
       " 'University of Central Florida': 5,\n",
       " 'University of Kansas': 5,\n",
       " 'University of Pittsburgh': 4,\n",
       " 'Yale University': 4,\n",
       " 'University of Missouri': 4,\n",
       " 'University of Rochester': 4,\n",
       " 'University of Kentucky': 4,\n",
       " 'University of Notre Dame': 4,\n",
       " 'Syracuse University': 4,\n",
       " 'University of Virginia': 4,\n",
       " 'Providence College': 4,\n",
       " 'Cornell University': 4,\n",
       " 'University of Georgia': 4,\n",
       " 'Colby College': 3,\n",
       " 'University of California, Santa Barbara': 3,\n",
       " 'Stanford University': 3,\n",
       " 'Roger Williams University': 3,\n",
       " 'Cal State Northridge': 3,\n",
       " 'University of North Carolina': 3,\n",
       " 'United States Naval Academy': 3,\n",
       " 'Rochester Institute of Technology': 3,\n",
       " 'Arizona State University': 3,\n",
       " 'University of Arizona': 3,\n",
       " 'Dartmouth College': 3,\n",
       " 'Santa Clara University': 3,\n",
       " 'Massachusetts Institute of Technology': 3,\n",
       " 'Boston University': 3,\n",
       " 'University of Richmond': 3,\n",
       " 'Texas A&M University': 3,\n",
       " 'University of Chicago': 3,\n",
       " 'Cal Poly San Luis Obispo': 3,\n",
       " 'University of Tennessee': 3,\n",
       " 'University of Minnesota': 3,\n",
       " 'Pepperdine University': 3,\n",
       " 'University of Connecticut': 3,\n",
       " 'New York University': 3,\n",
       " 'Web-based respondents': 3,\n",
       " 'Ithaca College': 3,\n",
       " 'Quinnipiac University': 3,\n",
       " 'University of Maryland': 3,\n",
       " 'University of Maine': 3,\n",
       " 'Morehead State University': 3,\n",
       " 'University of Denver': 3,\n",
       " 'Old Dominion University': 3,\n",
       " 'Colorado State University': 3,\n",
       " 'University of Arkansas': 3,\n",
       " 'Rice University ': 3,\n",
       " 'Johns Hopkins University': 3,\n",
       " 'Male respondents': 3,\n",
       " 'Chapman University': 3,\n",
       " 'Texas Christian University': 3,\n",
       " 'Northern Illinois University': 3,\n",
       " 'Skidmore College': 3,\n",
       " 'Florida International University': 3,\n",
       " 'Female respondents': 3,\n",
       " 'University of California, San Diego': 3,\n",
       " 'University of Dayton': 3,\n",
       " 'Loyola Marymount University': 3,\n",
       " 'Butler University': 3,\n",
       " 'George Washington University': 3,\n",
       " 'Purdue University': 3,\n",
       " 'Miami University (Ohio)': 2,\n",
       " 'Northern Arizona University': 2,\n",
       " 'College of William and Mary': 2,\n",
       " 'Elon University': 2,\n",
       " 'University of Illinois': 2,\n",
       " 'Tufts University': 2,\n",
       " 'University of St Andrews': 2,\n",
       " 'James Madison University': 2,\n",
       " 'Georgetown University': 2,\n",
       " 'Ohio University': 2,\n",
       " 'Princeton University': 2,\n",
       " 'Ohio State University': 2,\n",
       " 'Clemson University': 2,\n",
       " 'Emory University': 2,\n",
       " 'Middlebury College': 2,\n",
       " 'St. Lawrence University': 2,\n",
       " 'Baylor University': 2,\n",
       " 'Michigan Technological University': 2,\n",
       " 'Mobile respondents': 2,\n",
       " 'Brigham Young University': 2,\n",
       " 'University of Michigan': 2,\n",
       " 'University of Florida': 2,\n",
       " 'Loyola University Maryland': 2,\n",
       " 'Gonzaga University': 2,\n",
       " 'Arkansas State University': 2,\n",
       " 'Iowa State University': 2,\n",
       " 'University of Colorado Boulder': 2,\n",
       " 'Case Western Reserve University': 2,\n",
       " 'Columbia University': 2,\n",
       " 'Northwestern University': 2,\n",
       " 'Marquette University': 2,\n",
       " 'Appalachian State University': 2,\n",
       " 'UMass Amherst': 2,\n",
       " 'University of Oklahoma': 2,\n",
       " 'University of Texas': 2,\n",
       " 'Carnegie Mellon University': 2,\n",
       " 'University of California, Los Angeles': 2,\n",
       " 'Illinois State': 2,\n",
       " 'Lehigh University': 2,\n",
       " 'Florida State University': 2,\n",
       " 'Penn State University': 1,\n",
       " 'North Carolina State': 1,\n",
       " 'Louisiana State University': 1,\n",
       " 'Boston College': 1,\n",
       " 'Indiana University': 1,\n",
       " 'Auburn University': 1,\n",
       " 'Harvard University': 1,\n",
       " 'Duke University': 1,\n",
       " 'Tulane University': 1,\n",
       " 'University of Iowa': 1,\n",
       " 'University of Wisconsin-La Crosse': 1,\n",
       " 'Sacred Heart University': 1,\n",
       " 'Centre College': 1,\n",
       " 'Texas Tech University': 1,\n",
       " 'University of Wisconsin-Whitewater': 1,\n",
       " 'Washington University in St. Louis': 1,\n",
       " 'San Diego State University': 1,\n",
       " 'Randolph-Macon College': 1,\n",
       " 'Michigan State University': 1,\n",
       " 'University of Alabama': 1,\n",
       " 'Southern Methodist University': 1,\n",
       " 'Castleton State College': 1,\n",
       " 'Mississippi State University': 1,\n",
       " 'University of Wisconsin-Madison': 1}"
      ]
     },
     "execution_count": 14,
     "metadata": {},
     "output_type": "execute_result"
    }
   ],
   "source": [
    "sd_frequency_dict = data['Segment Description'].value_counts().to_dict()\n",
    "sd_frequency_dict"
   ]
  },
  {
   "cell_type": "code",
   "execution_count": 15,
   "metadata": {},
   "outputs": [],
   "source": [
    "data['Segment Description_new'] = data['Segment Description'].map(sd_frequency_dict)"
   ]
  },
  {
   "cell_type": "code",
   "execution_count": 16,
   "metadata": {},
   "outputs": [
    {
     "data": {
      "text/plain": [
       "13"
      ]
     },
     "execution_count": 16,
     "metadata": {},
     "output_type": "execute_result"
    }
   ],
   "source": [
    "len(data['Segment Description_new'].value_counts())"
   ]
  },
  {
   "cell_type": "code",
   "execution_count": 17,
   "metadata": {},
   "outputs": [
    {
     "data": {
      "text/plain": [
       "1421    1421\n",
       "3        144\n",
       "2         80\n",
       "8         48\n",
       "4         44\n",
       "7         42\n",
       "1         24\n",
       "10        20\n",
       "5         20\n",
       "6         18\n",
       "14        14\n",
       "12        12\n",
       "9          9\n",
       "Name: Segment Description_new, dtype: int64"
      ]
     },
     "execution_count": 17,
     "metadata": {},
     "output_type": "execute_result"
    }
   ],
   "source": [
    "data['Segment Description_new'].value_counts()"
   ]
  },
  {
   "cell_type": "code",
   "execution_count": 18,
   "metadata": {
    "scrolled": true
   },
   "outputs": [
    {
     "data": {
      "text/html": [
       "<div>\n",
       "<style scoped>\n",
       "    .dataframe tbody tr th:only-of-type {\n",
       "        vertical-align: middle;\n",
       "    }\n",
       "\n",
       "    .dataframe tbody tr th {\n",
       "        vertical-align: top;\n",
       "    }\n",
       "\n",
       "    .dataframe thead th {\n",
       "        text-align: right;\n",
       "    }\n",
       "</style>\n",
       "<table border=\"1\" class=\"dataframe\">\n",
       "  <thead>\n",
       "    <tr style=\"text-align: right;\">\n",
       "      <th></th>\n",
       "      <th>Unnamed: 0</th>\n",
       "      <th>ID</th>\n",
       "      <th>Segment type</th>\n",
       "      <th>Segment Description</th>\n",
       "      <th>Answer</th>\n",
       "      <th>Count</th>\n",
       "      <th>Percentage</th>\n",
       "      <th>It became a relationship</th>\n",
       "      <th>Segment Description_new</th>\n",
       "    </tr>\n",
       "  </thead>\n",
       "  <tbody>\n",
       "    <tr>\n",
       "      <th>0</th>\n",
       "      <td>0</td>\n",
       "      <td>292890.8970</td>\n",
       "      <td>web</td>\n",
       "      <td>Meridian, Idaho</td>\n",
       "      <td>No</td>\n",
       "      <td>0.000000</td>\n",
       "      <td>0.000000</td>\n",
       "      <td>0</td>\n",
       "      <td>1421</td>\n",
       "    </tr>\n",
       "    <tr>\n",
       "      <th>1</th>\n",
       "      <td>1</td>\n",
       "      <td>292887.9870</td>\n",
       "      <td>web</td>\n",
       "      <td>Meridian, Idaho</td>\n",
       "      <td>No</td>\n",
       "      <td>0.000000</td>\n",
       "      <td>0.000000</td>\n",
       "      <td>0</td>\n",
       "      <td>1421</td>\n",
       "    </tr>\n",
       "    <tr>\n",
       "      <th>2</th>\n",
       "      <td>2</td>\n",
       "      <td>292894.0656</td>\n",
       "      <td>gender</td>\n",
       "      <td>Meridian, Idaho</td>\n",
       "      <td>No</td>\n",
       "      <td>499.173606</td>\n",
       "      <td>0.225255</td>\n",
       "      <td>0</td>\n",
       "      <td>1421</td>\n",
       "    </tr>\n",
       "    <tr>\n",
       "      <th>3</th>\n",
       "      <td>3</td>\n",
       "      <td>292887.1180</td>\n",
       "      <td>web</td>\n",
       "      <td>Meridian, Idaho</td>\n",
       "      <td>No</td>\n",
       "      <td>0.000000</td>\n",
       "      <td>0.000000</td>\n",
       "      <td>0</td>\n",
       "      <td>1421</td>\n",
       "    </tr>\n",
       "    <tr>\n",
       "      <th>4</th>\n",
       "      <td>4</td>\n",
       "      <td>292893.6561</td>\n",
       "      <td>gender</td>\n",
       "      <td>Meridian, Idaho</td>\n",
       "      <td>No</td>\n",
       "      <td>455.925963</td>\n",
       "      <td>0.211360</td>\n",
       "      <td>0</td>\n",
       "      <td>1421</td>\n",
       "    </tr>\n",
       "  </tbody>\n",
       "</table>\n",
       "</div>"
      ],
      "text/plain": [
       "   Unnamed: 0           ID Segment type Segment Description Answer  \\\n",
       "0           0  292890.8970          web     Meridian, Idaho     No   \n",
       "1           1  292887.9870          web     Meridian, Idaho     No   \n",
       "2           2  292894.0656       gender     Meridian, Idaho     No   \n",
       "3           3  292887.1180          web     Meridian, Idaho     No   \n",
       "4           4  292893.6561       gender     Meridian, Idaho     No   \n",
       "\n",
       "        Count  Percentage  It became a relationship  Segment Description_new  \n",
       "0    0.000000    0.000000                         0                     1421  \n",
       "1    0.000000    0.000000                         0                     1421  \n",
       "2  499.173606    0.225255                         0                     1421  \n",
       "3    0.000000    0.000000                         0                     1421  \n",
       "4  455.925963    0.211360                         0                     1421  "
      ]
     },
     "execution_count": 18,
     "metadata": {},
     "output_type": "execute_result"
    }
   ],
   "source": [
    "data.head()"
   ]
  },
  {
   "cell_type": "code",
   "execution_count": 19,
   "metadata": {},
   "outputs": [],
   "source": [
    "data.drop(['Segment Description'], axis=1, inplace= True)"
   ]
  },
  {
   "cell_type": "markdown",
   "metadata": {},
   "source": [
    "Since for question Do you use tinder ? Answer is Yes or (No / I don't use Tinder), there are only two classes "
   ]
  },
  {
   "cell_type": "code",
   "execution_count": 20,
   "metadata": {},
   "outputs": [],
   "source": [
    "answer_dict = {'Yes':1, 'No':0, \"I don't use Tinder\" :0}\n",
    "data['Answer'] = data['Answer'].map(answer_dict)"
   ]
  },
  {
   "cell_type": "markdown",
   "metadata": {},
   "source": [
    "### One hot encoding the remaining data"
   ]
  },
  {
   "cell_type": "code",
   "execution_count": 21,
   "metadata": {},
   "outputs": [
    {
     "data": {
      "text/html": [
       "<div>\n",
       "<style scoped>\n",
       "    .dataframe tbody tr th:only-of-type {\n",
       "        vertical-align: middle;\n",
       "    }\n",
       "\n",
       "    .dataframe tbody tr th {\n",
       "        vertical-align: top;\n",
       "    }\n",
       "\n",
       "    .dataframe thead th {\n",
       "        text-align: right;\n",
       "    }\n",
       "</style>\n",
       "<table border=\"1\" class=\"dataframe\">\n",
       "  <thead>\n",
       "    <tr style=\"text-align: right;\">\n",
       "      <th></th>\n",
       "      <th>Unnamed: 0</th>\n",
       "      <th>ID</th>\n",
       "      <th>Answer</th>\n",
       "      <th>Count</th>\n",
       "      <th>Percentage</th>\n",
       "      <th>It became a relationship</th>\n",
       "      <th>Segment Description_new</th>\n",
       "      <th>Segment type_mobile</th>\n",
       "      <th>Segment type_university</th>\n",
       "      <th>Segment type_web</th>\n",
       "    </tr>\n",
       "  </thead>\n",
       "  <tbody>\n",
       "    <tr>\n",
       "      <th>0</th>\n",
       "      <td>0</td>\n",
       "      <td>292890.8970</td>\n",
       "      <td>0</td>\n",
       "      <td>0.000000</td>\n",
       "      <td>0.000000</td>\n",
       "      <td>0</td>\n",
       "      <td>1421</td>\n",
       "      <td>0</td>\n",
       "      <td>0</td>\n",
       "      <td>1</td>\n",
       "    </tr>\n",
       "    <tr>\n",
       "      <th>1</th>\n",
       "      <td>1</td>\n",
       "      <td>292887.9870</td>\n",
       "      <td>0</td>\n",
       "      <td>0.000000</td>\n",
       "      <td>0.000000</td>\n",
       "      <td>0</td>\n",
       "      <td>1421</td>\n",
       "      <td>0</td>\n",
       "      <td>0</td>\n",
       "      <td>1</td>\n",
       "    </tr>\n",
       "    <tr>\n",
       "      <th>2</th>\n",
       "      <td>2</td>\n",
       "      <td>292894.0656</td>\n",
       "      <td>0</td>\n",
       "      <td>499.173606</td>\n",
       "      <td>0.225255</td>\n",
       "      <td>0</td>\n",
       "      <td>1421</td>\n",
       "      <td>0</td>\n",
       "      <td>0</td>\n",
       "      <td>0</td>\n",
       "    </tr>\n",
       "    <tr>\n",
       "      <th>3</th>\n",
       "      <td>3</td>\n",
       "      <td>292887.1180</td>\n",
       "      <td>0</td>\n",
       "      <td>0.000000</td>\n",
       "      <td>0.000000</td>\n",
       "      <td>0</td>\n",
       "      <td>1421</td>\n",
       "      <td>0</td>\n",
       "      <td>0</td>\n",
       "      <td>1</td>\n",
       "    </tr>\n",
       "    <tr>\n",
       "      <th>4</th>\n",
       "      <td>4</td>\n",
       "      <td>292893.6561</td>\n",
       "      <td>0</td>\n",
       "      <td>455.925963</td>\n",
       "      <td>0.211360</td>\n",
       "      <td>0</td>\n",
       "      <td>1421</td>\n",
       "      <td>0</td>\n",
       "      <td>0</td>\n",
       "      <td>0</td>\n",
       "    </tr>\n",
       "  </tbody>\n",
       "</table>\n",
       "</div>"
      ],
      "text/plain": [
       "   Unnamed: 0           ID  Answer       Count  Percentage  \\\n",
       "0           0  292890.8970       0    0.000000    0.000000   \n",
       "1           1  292887.9870       0    0.000000    0.000000   \n",
       "2           2  292894.0656       0  499.173606    0.225255   \n",
       "3           3  292887.1180       0    0.000000    0.000000   \n",
       "4           4  292893.6561       0  455.925963    0.211360   \n",
       "\n",
       "   It became a relationship  Segment Description_new  Segment type_mobile  \\\n",
       "0                         0                     1421                    0   \n",
       "1                         0                     1421                    0   \n",
       "2                         0                     1421                    0   \n",
       "3                         0                     1421                    0   \n",
       "4                         0                     1421                    0   \n",
       "\n",
       "   Segment type_university  Segment type_web  \n",
       "0                        0                 1  \n",
       "1                        0                 1  \n",
       "2                        0                 0  \n",
       "3                        0                 1  \n",
       "4                        0                 0  "
      ]
     },
     "execution_count": 21,
     "metadata": {},
     "output_type": "execute_result"
    }
   ],
   "source": [
    "data = pd.get_dummies(data, drop_first = True)\n",
    "data.head()"
   ]
  },
  {
   "cell_type": "code",
   "execution_count": 22,
   "metadata": {},
   "outputs": [],
   "source": [
    "data.drop(['Unnamed: 0', 'ID'], axis=1, inplace= True)"
   ]
  },
  {
   "cell_type": "code",
   "execution_count": 23,
   "metadata": {},
   "outputs": [
    {
     "data": {
      "text/html": [
       "<div>\n",
       "<style scoped>\n",
       "    .dataframe tbody tr th:only-of-type {\n",
       "        vertical-align: middle;\n",
       "    }\n",
       "\n",
       "    .dataframe tbody tr th {\n",
       "        vertical-align: top;\n",
       "    }\n",
       "\n",
       "    .dataframe thead th {\n",
       "        text-align: right;\n",
       "    }\n",
       "</style>\n",
       "<table border=\"1\" class=\"dataframe\">\n",
       "  <thead>\n",
       "    <tr style=\"text-align: right;\">\n",
       "      <th></th>\n",
       "      <th>Answer</th>\n",
       "      <th>Count</th>\n",
       "      <th>Percentage</th>\n",
       "      <th>It became a relationship</th>\n",
       "      <th>Segment Description_new</th>\n",
       "      <th>Segment type_mobile</th>\n",
       "      <th>Segment type_university</th>\n",
       "      <th>Segment type_web</th>\n",
       "    </tr>\n",
       "  </thead>\n",
       "  <tbody>\n",
       "    <tr>\n",
       "      <th>0</th>\n",
       "      <td>0</td>\n",
       "      <td>0.000000</td>\n",
       "      <td>0.000000</td>\n",
       "      <td>0</td>\n",
       "      <td>1421</td>\n",
       "      <td>0</td>\n",
       "      <td>0</td>\n",
       "      <td>1</td>\n",
       "    </tr>\n",
       "    <tr>\n",
       "      <th>1</th>\n",
       "      <td>0</td>\n",
       "      <td>0.000000</td>\n",
       "      <td>0.000000</td>\n",
       "      <td>0</td>\n",
       "      <td>1421</td>\n",
       "      <td>0</td>\n",
       "      <td>0</td>\n",
       "      <td>1</td>\n",
       "    </tr>\n",
       "    <tr>\n",
       "      <th>2</th>\n",
       "      <td>0</td>\n",
       "      <td>499.173606</td>\n",
       "      <td>0.225255</td>\n",
       "      <td>0</td>\n",
       "      <td>1421</td>\n",
       "      <td>0</td>\n",
       "      <td>0</td>\n",
       "      <td>0</td>\n",
       "    </tr>\n",
       "    <tr>\n",
       "      <th>3</th>\n",
       "      <td>0</td>\n",
       "      <td>0.000000</td>\n",
       "      <td>0.000000</td>\n",
       "      <td>0</td>\n",
       "      <td>1421</td>\n",
       "      <td>0</td>\n",
       "      <td>0</td>\n",
       "      <td>1</td>\n",
       "    </tr>\n",
       "    <tr>\n",
       "      <th>4</th>\n",
       "      <td>0</td>\n",
       "      <td>455.925963</td>\n",
       "      <td>0.211360</td>\n",
       "      <td>0</td>\n",
       "      <td>1421</td>\n",
       "      <td>0</td>\n",
       "      <td>0</td>\n",
       "      <td>0</td>\n",
       "    </tr>\n",
       "  </tbody>\n",
       "</table>\n",
       "</div>"
      ],
      "text/plain": [
       "   Answer       Count  Percentage  It became a relationship  \\\n",
       "0       0    0.000000    0.000000                         0   \n",
       "1       0    0.000000    0.000000                         0   \n",
       "2       0  499.173606    0.225255                         0   \n",
       "3       0    0.000000    0.000000                         0   \n",
       "4       0  455.925963    0.211360                         0   \n",
       "\n",
       "   Segment Description_new  Segment type_mobile  Segment type_university  \\\n",
       "0                     1421                    0                        0   \n",
       "1                     1421                    0                        0   \n",
       "2                     1421                    0                        0   \n",
       "3                     1421                    0                        0   \n",
       "4                     1421                    0                        0   \n",
       "\n",
       "   Segment type_web  \n",
       "0                 1  \n",
       "1                 1  \n",
       "2                 0  \n",
       "3                 1  \n",
       "4                 0  "
      ]
     },
     "execution_count": 23,
     "metadata": {},
     "output_type": "execute_result"
    }
   ],
   "source": [
    "data.head()"
   ]
  },
  {
   "cell_type": "code",
   "execution_count": 24,
   "metadata": {},
   "outputs": [
    {
     "data": {
      "text/plain": [
       "<AxesSubplot:>"
      ]
     },
     "execution_count": 24,
     "metadata": {},
     "output_type": "execute_result"
    },
    {
     "data": {
      "image/png": "[encoded data removed]",
      "text/plain": [
       "<Figure size 1152x576 with 2 Axes>"
      ]
     },
     "metadata": {
      "needs_background": "light"
     },
     "output_type": "display_data"
    }
   ],
   "source": [
    "plt.figure(figsize=(16,8))\n",
    "corr = data.corr()\n",
    "sns.heatmap(corr, annot = True)"
   ]
  },
  {
   "cell_type": "code",
   "execution_count": 25,
   "metadata": {},
   "outputs": [],
   "source": [
    "from sklearn.model_selection import train_test_split"
   ]
  },
  {
   "cell_type": "code",
   "execution_count": 26,
   "metadata": {},
   "outputs": [],
   "source": [
    "x = data.drop(['It became a relationship'], axis=1)\n",
    "y = data['It became a relationship']"
   ]
  },
  {
   "cell_type": "code",
   "execution_count": 27,
   "metadata": {},
   "outputs": [],
   "source": [
    "x_train, x_test, y_train, y_test = train_test_split (x,y, test_size = 0.25, random_state= 0)"
   ]
  },
  {
   "cell_type": "markdown",
   "metadata": {},
   "source": [
    "### Logistic Regression "
   ]
  },
  {
   "cell_type": "code",
   "execution_count": 28,
   "metadata": {},
   "outputs": [],
   "source": [
    "from sklearn.linear_model import LogisticRegression"
   ]
  },
  {
   "cell_type": "code",
   "execution_count": 29,
   "metadata": {},
   "outputs": [],
   "source": [
    "lr  = LogisticRegression()\n",
    "model = lr.fit(x_train, y_train)"
   ]
  },
  {
   "cell_type": "code",
   "execution_count": 30,
   "metadata": {},
   "outputs": [],
   "source": [
    "y_pred = model.predict(x_test)"
   ]
  },
  {
   "cell_type": "code",
   "execution_count": 31,
   "metadata": {},
   "outputs": [],
   "source": [
    "from sklearn.metrics import accuracy_score,confusion_matrix"
   ]
  },
  {
   "cell_type": "code",
   "execution_count": 32,
   "metadata": {},
   "outputs": [
    {
     "data": {
      "text/plain": [
       "array([[271,  58],\n",
       "       [ 33, 112]], dtype=int64)"
      ]
     },
     "execution_count": 32,
     "metadata": {},
     "output_type": "execute_result"
    }
   ],
   "source": [
    "confusion_matrix(y_pred, y_test)"
   ]
  },
  {
   "cell_type": "code",
   "execution_count": 33,
   "metadata": {},
   "outputs": [
    {
     "data": {
      "text/plain": [
       "0.8080168776371308"
      ]
     },
     "execution_count": 33,
     "metadata": {},
     "output_type": "execute_result"
    }
   ],
   "source": [
    "accuracy_score(y_pred, y_test)"
   ]
  },
  {
   "cell_type": "markdown",
   "metadata": {},
   "source": [
    "## With Feature Scaling"
   ]
  },
  {
   "cell_type": "code",
   "execution_count": 34,
   "metadata": {},
   "outputs": [],
   "source": [
    "from sklearn.preprocessing import StandardScaler"
   ]
  },
  {
   "cell_type": "code",
   "execution_count": 35,
   "metadata": {},
   "outputs": [],
   "source": [
    "sc = StandardScaler()\n",
    "x_train = sc.fit_transform(x_train)\n",
    "x_test = sc.transform(x_test)"
   ]
  },
  {
   "cell_type": "code",
   "execution_count": 36,
   "metadata": {},
   "outputs": [],
   "source": [
    "model = lr.fit(x_train, y_train)"
   ]
  },
  {
   "cell_type": "code",
   "execution_count": 37,
   "metadata": {},
   "outputs": [],
   "source": [
    "y_pred = model.predict(x_test)"
   ]
  },
  {
   "cell_type": "code",
   "execution_count": 38,
   "metadata": {},
   "outputs": [
    {
     "data": {
      "text/plain": [
       "0.79957805907173"
      ]
     },
     "execution_count": 38,
     "metadata": {},
     "output_type": "execute_result"
    }
   ],
   "source": [
    "accuracy_score(y_test, y_pred)"
   ]
  },
  {
   "cell_type": "code",
   "execution_count": 39,
   "metadata": {},
   "outputs": [
    {
     "data": {
      "text/plain": [
       "array([[270,  34],\n",
       "       [ 61, 109]], dtype=int64)"
      ]
     },
     "execution_count": 39,
     "metadata": {},
     "output_type": "execute_result"
    }
   ],
   "source": [
    "confusion_matrix( y_test, y_pred)"
   ]
  },
  {
   "cell_type": "code",
   "execution_count": 40,
   "metadata": {},
   "outputs": [
    {
     "name": "stdout",
     "output_type": "stream",
     "text": [
      "              precision    recall  f1-score   support\n",
      "\n",
      "           0       0.82      0.89      0.85       304\n",
      "           1       0.76      0.64      0.70       170\n",
      "\n",
      "    accuracy                           0.80       474\n",
      "   macro avg       0.79      0.76      0.77       474\n",
      "weighted avg       0.80      0.80      0.80       474\n",
      "\n"
     ]
    }
   ],
   "source": [
    "print(classification_report(y_test, y_pred))"
   ]
  },
  {
   "cell_type": "markdown",
   "metadata": {},
   "source": [
    "### With SMOTE"
   ]
  },
  {
   "cell_type": "code",
   "execution_count": 41,
   "metadata": {},
   "outputs": [],
   "source": [
    "from imblearn.over_sampling import SMOTE"
   ]
  },
  {
   "cell_type": "code",
   "execution_count": 42,
   "metadata": {},
   "outputs": [],
   "source": [
    "os = SMOTE()"
   ]
  },
  {
   "cell_type": "code",
   "execution_count": 43,
   "metadata": {},
   "outputs": [],
   "source": [
    "x1, y1 = os.fit_resample(x,y)"
   ]
  },
  {
   "cell_type": "code",
   "execution_count": 44,
   "metadata": {},
   "outputs": [],
   "source": [
    "from collections import Counter"
   ]
  },
  {
   "cell_type": "code",
   "execution_count": 45,
   "metadata": {},
   "outputs": [
    {
     "data": {
      "text/plain": [
       "Counter({0: 1231, 1: 1231})"
      ]
     },
     "execution_count": 45,
     "metadata": {},
     "output_type": "execute_result"
    }
   ],
   "source": [
    "count = Counter(y1)\n",
    "count"
   ]
  },
  {
   "cell_type": "code",
   "execution_count": 46,
   "metadata": {},
   "outputs": [],
   "source": [
    "x_train1, x_test1, y_train1, y_test1 = train_test_split(x1, y1, test_size = 0.25, random_state = 1)"
   ]
  },
  {
   "cell_type": "code",
   "execution_count": 47,
   "metadata": {},
   "outputs": [],
   "source": [
    "x_train1 = sc.fit_transform(x_train1)"
   ]
  },
  {
   "cell_type": "code",
   "execution_count": 48,
   "metadata": {},
   "outputs": [],
   "source": [
    "x_test1 = sc.transform(x_test1)"
   ]
  },
  {
   "cell_type": "code",
   "execution_count": 49,
   "metadata": {},
   "outputs": [],
   "source": [
    "model1= lr.fit(x_train1, y_train1)"
   ]
  },
  {
   "cell_type": "code",
   "execution_count": 50,
   "metadata": {},
   "outputs": [],
   "source": [
    "y_pred1 =model1.predict(x_test1)"
   ]
  },
  {
   "cell_type": "code",
   "execution_count": 51,
   "metadata": {},
   "outputs": [
    {
     "data": {
      "text/plain": [
       "0.814935064935065"
      ]
     },
     "execution_count": 51,
     "metadata": {},
     "output_type": "execute_result"
    }
   ],
   "source": [
    "accuracy_score(y_test1, y_pred1)"
   ]
  },
  {
   "cell_type": "code",
   "execution_count": 52,
   "metadata": {},
   "outputs": [
    {
     "data": {
      "text/plain": [
       "array([[224,  85],\n",
       "       [ 29, 278]], dtype=int64)"
      ]
     },
     "execution_count": 52,
     "metadata": {},
     "output_type": "execute_result"
    }
   ],
   "source": [
    "confusion_matrix(y_test1, y_pred1)"
   ]
  },
  {
   "cell_type": "code",
   "execution_count": 53,
   "metadata": {},
   "outputs": [
    {
     "name": "stdout",
     "output_type": "stream",
     "text": [
      "              precision    recall  f1-score   support\n",
      "\n",
      "           0       0.89      0.72      0.80       309\n",
      "           1       0.77      0.91      0.83       307\n",
      "\n",
      "    accuracy                           0.81       616\n",
      "   macro avg       0.83      0.82      0.81       616\n",
      "weighted avg       0.83      0.81      0.81       616\n",
      "\n"
     ]
    }
   ],
   "source": [
    "print(classification_report(y_test1, y_pred1))"
   ]
  },
  {
   "cell_type": "markdown",
   "metadata": {},
   "source": [
    "### Testing the original data with the MODEL built using over_sampled data "
   ]
  },
  {
   "cell_type": "code",
   "execution_count": 54,
   "metadata": {},
   "outputs": [],
   "source": [
    "y_pred = model1.predict(x_test)"
   ]
  },
  {
   "cell_type": "code",
   "execution_count": 55,
   "metadata": {},
   "outputs": [
    {
     "data": {
      "text/plain": [
       "0.7742616033755274"
      ]
     },
     "execution_count": 55,
     "metadata": {},
     "output_type": "execute_result"
    }
   ],
   "source": [
    "model1.score(x_train, y_train)"
   ]
  },
  {
   "cell_type": "code",
   "execution_count": 56,
   "metadata": {},
   "outputs": [
    {
     "data": {
      "text/plain": [
       "0.7869198312236287"
      ]
     },
     "execution_count": 56,
     "metadata": {},
     "output_type": "execute_result"
    }
   ],
   "source": [
    "model1.score(x_test , y_test)"
   ]
  },
  {
   "cell_type": "code",
   "execution_count": 57,
   "metadata": {},
   "outputs": [
    {
     "data": {
      "text/plain": [
       "0.7869198312236287"
      ]
     },
     "execution_count": 57,
     "metadata": {},
     "output_type": "execute_result"
    }
   ],
   "source": [
    "accuracy_score(y_pred, y_test)"
   ]
  },
  {
   "cell_type": "code",
   "execution_count": 58,
   "metadata": {},
   "outputs": [
    {
     "data": {
      "text/plain": [
       "array([[226,  78],\n",
       "       [ 23, 147]], dtype=int64)"
      ]
     },
     "execution_count": 58,
     "metadata": {},
     "output_type": "execute_result"
    }
   ],
   "source": [
    "confusion_matrix(y_test, y_pred)"
   ]
  },
  {
   "cell_type": "code",
   "execution_count": 59,
   "metadata": {},
   "outputs": [
    {
     "name": "stdout",
     "output_type": "stream",
     "text": [
      "              precision    recall  f1-score   support\n",
      "\n",
      "           0       0.91      0.74      0.82       304\n",
      "           1       0.65      0.86      0.74       170\n",
      "\n",
      "    accuracy                           0.79       474\n",
      "   macro avg       0.78      0.80      0.78       474\n",
      "weighted avg       0.82      0.79      0.79       474\n",
      "\n"
     ]
    }
   ],
   "source": [
    "print(classification_report(y_test, y_pred))"
   ]
  },
  {
   "cell_type": "markdown",
   "metadata": {},
   "source": [
    "model has good precision but bad recall, model1 has bad precision but good recall. Overall accuracy score of both the models are Identical."
   ]
  },
  {
   "cell_type": "markdown",
   "metadata": {},
   "source": [
    "For advertising purpose,we need have good recall.  "
   ]
  },
  {
   "cell_type": "markdown",
   "metadata": {},
   "source": [
    "### CART "
   ]
  },
  {
   "cell_type": "code",
   "execution_count": 60,
   "metadata": {},
   "outputs": [],
   "source": [
    "from sklearn.tree import DecisionTreeClassifier"
   ]
  },
  {
   "cell_type": "code",
   "execution_count": 61,
   "metadata": {},
   "outputs": [],
   "source": [
    "model2 = DecisionTreeClassifier(criterion= 'gini')"
   ]
  },
  {
   "cell_type": "code",
   "execution_count": 62,
   "metadata": {},
   "outputs": [
    {
     "data": {
      "text/plain": [
       "DecisionTreeClassifier()"
      ]
     },
     "execution_count": 62,
     "metadata": {},
     "output_type": "execute_result"
    }
   ],
   "source": [
    "model2.fit(x_train, y_train)"
   ]
  },
  {
   "cell_type": "code",
   "execution_count": 63,
   "metadata": {},
   "outputs": [
    {
     "data": {
      "text/plain": [
       "0.9824191279887482"
      ]
     },
     "execution_count": 63,
     "metadata": {},
     "output_type": "execute_result"
    }
   ],
   "source": [
    "model2.score(x_train, y_train)"
   ]
  },
  {
   "cell_type": "code",
   "execution_count": 64,
   "metadata": {},
   "outputs": [
    {
     "data": {
      "text/plain": [
       "0.9135021097046413"
      ]
     },
     "execution_count": 64,
     "metadata": {},
     "output_type": "execute_result"
    }
   ],
   "source": [
    "model2.score(x_test, y_test)"
   ]
  },
  {
   "cell_type": "code",
   "execution_count": 65,
   "metadata": {},
   "outputs": [],
   "source": [
    "y_pred = model2.predict(x_test)"
   ]
  },
  {
   "cell_type": "code",
   "execution_count": 66,
   "metadata": {},
   "outputs": [
    {
     "data": {
      "text/plain": [
       "0.9135021097046413"
      ]
     },
     "execution_count": 66,
     "metadata": {},
     "output_type": "execute_result"
    }
   ],
   "source": [
    "accuracy_score(y_test, y_pred)"
   ]
  },
  {
   "cell_type": "code",
   "execution_count": 67,
   "metadata": {},
   "outputs": [
    {
     "data": {
      "text/plain": [
       "array([[293,  11],\n",
       "       [ 30, 140]], dtype=int64)"
      ]
     },
     "execution_count": 67,
     "metadata": {},
     "output_type": "execute_result"
    }
   ],
   "source": [
    "confusion_matrix(y_test, y_pred)"
   ]
  },
  {
   "cell_type": "code",
   "execution_count": 68,
   "metadata": {
    "scrolled": true
   },
   "outputs": [
    {
     "name": "stdout",
     "output_type": "stream",
     "text": [
      "              precision    recall  f1-score   support\n",
      "\n",
      "           0       0.91      0.96      0.93       304\n",
      "           1       0.93      0.82      0.87       170\n",
      "\n",
      "    accuracy                           0.91       474\n",
      "   macro avg       0.92      0.89      0.90       474\n",
      "weighted avg       0.91      0.91      0.91       474\n",
      "\n"
     ]
    }
   ],
   "source": [
    "print(classification_report(y_test, y_pred))"
   ]
  },
  {
   "cell_type": "markdown",
   "metadata": {},
   "source": [
    "### ID3 "
   ]
  },
  {
   "cell_type": "code",
   "execution_count": 69,
   "metadata": {},
   "outputs": [],
   "source": [
    "model3 = DecisionTreeClassifier(criterion = 'entropy')"
   ]
  },
  {
   "cell_type": "code",
   "execution_count": 71,
   "metadata": {},
   "outputs": [
    {
     "data": {
      "text/plain": [
       "DecisionTreeClassifier(criterion='entropy')"
      ]
     },
     "execution_count": 71,
     "metadata": {},
     "output_type": "execute_result"
    }
   ],
   "source": [
    "model3.fit(x_train1, y_train1)"
   ]
  },
  {
   "cell_type": "code",
   "execution_count": 72,
   "metadata": {},
   "outputs": [
    {
     "data": {
      "text/plain": [
       "0.819971870604782"
      ]
     },
     "execution_count": 72,
     "metadata": {},
     "output_type": "execute_result"
    }
   ],
   "source": [
    "model3.score(x_train, y_train)"
   ]
  },
  {
   "cell_type": "code",
   "execution_count": 73,
   "metadata": {},
   "outputs": [
    {
     "data": {
      "text/plain": [
       "0.8396624472573839"
      ]
     },
     "execution_count": 73,
     "metadata": {},
     "output_type": "execute_result"
    }
   ],
   "source": [
    "model3.score(x_test, y_test)"
   ]
  },
  {
   "cell_type": "code",
   "execution_count": 74,
   "metadata": {},
   "outputs": [],
   "source": [
    "y_pred = model3.predict(x_test)"
   ]
  },
  {
   "cell_type": "code",
   "execution_count": 75,
   "metadata": {},
   "outputs": [
    {
     "data": {
      "text/plain": [
       "0.8396624472573839"
      ]
     },
     "execution_count": 75,
     "metadata": {},
     "output_type": "execute_result"
    }
   ],
   "source": [
    "accuracy_score(y_test, y_pred)"
   ]
  },
  {
   "cell_type": "code",
   "execution_count": 76,
   "metadata": {},
   "outputs": [
    {
     "data": {
      "text/plain": [
       "array([[300,   4],\n",
       "       [ 72,  98]], dtype=int64)"
      ]
     },
     "execution_count": 76,
     "metadata": {},
     "output_type": "execute_result"
    }
   ],
   "source": [
    "confusion_matrix(y_test, y_pred)"
   ]
  },
  {
   "cell_type": "code",
   "execution_count": 77,
   "metadata": {},
   "outputs": [
    {
     "name": "stdout",
     "output_type": "stream",
     "text": [
      "              precision    recall  f1-score   support\n",
      "\n",
      "           0       0.81      0.99      0.89       304\n",
      "           1       0.96      0.58      0.72       170\n",
      "\n",
      "    accuracy                           0.84       474\n",
      "   macro avg       0.88      0.78      0.80       474\n",
      "weighted avg       0.86      0.84      0.83       474\n",
      "\n"
     ]
    }
   ],
   "source": [
    "print(classification_report(y_test, y_pred))"
   ]
  },
  {
   "cell_type": "code",
   "execution_count": null,
   "metadata": {},
   "outputs": [],
   "source": []
  }
 ],
 "metadata": {
  "kernelspec": {
   "display_name": "Python 3",
   "language": "python",
   "name": "python3"
  },
  "language_info": {
   "codemirror_mode": {
    "name": "ipython",
    "version": 3
   },
   "file_extension": ".py",
   "mimetype": "text/x-python",
   "name": "python",
   "nbconvert_exporter": "python",
   "pygments_lexer": "ipython3",
   "version": "3.8.5"
  }
 },
 "nbformat": 4,
 "nbformat_minor": 4
}
